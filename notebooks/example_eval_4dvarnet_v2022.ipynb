{
 "cells": [
  {
   "cell_type": "markdown",
   "metadata": {},
   "source": [
    "# Evaluation 4DVarNet: \n",
    "\n",
    "This notebook presents the evaluation of the SSH reconstructions based on the 4DVarNet method ([Fablet et al., 2021](https://) and performed for the **\"2021a_SSH_mapping_OSE\" ocean data challenge**. "
   ]
  },
  {
   "cell_type": "code",
   "execution_count": null,
   "metadata": {},
   "outputs": [],
   "source": [
    "import os\n",
    "import sys\n",
    "sys.path.append('..')\n",
    "import logging\n",
    "import pandas as pd"
   ]
  },
  {
   "cell_type": "code",
   "execution_count": null,
   "metadata": {},
   "outputs": [],
   "source": [
    "from src.mod_inout import *\n",
    "from src.mod_interp import *\n",
    "from src.mod_stats import *\n",
    "from src.mod_spectral import *\n",
    "from src.mod_plot import *"
   ]
  },
  {
   "cell_type": "code",
   "execution_count": null,
   "metadata": {},
   "outputs": [],
   "source": [
    "logger = logging.getLogger()\n",
    "logger.setLevel(logging.INFO)"
   ]
  },
  {
   "cell_type": "markdown",
   "metadata": {},
   "source": [
    "### Study Area & Ouput Parameters"
   ]
  },
  {
   "cell_type": "code",
   "execution_count": null,
   "metadata": {},
   "outputs": [],
   "source": [
    "# study area\n",
    "lon_min = 295.\n",
    "lon_max = 305.\n",
    "lat_min = 33.\n",
    "lat_max = 43.\n",
    "is_circle = False\n",
    "time_min = '2017-01-01'\n",
    "time_max = '2017-12-31'\n",
    "\n",
    "# Outputs\n",
    "bin_lat_step = 1.\n",
    "bin_lon_step = 1.\n",
    "bin_time_step = '1D'\n",
    "output_directory = '../results'\n",
    "if not os.path.exists(output_directory):\n",
    "    os.mkdir(output_directory)\n",
    "output_filename = f'{output_directory}/stat_OSE_4DVARNET_v2022_{time_min}_{time_max}_{lon_min}_{lon_max}_{lat_min}_{lat_max}.nc'\n",
    "output_filename_timeseries = f'{output_directory}/stat_timeseries_OSE_4DVARNET_v2022_{time_min}_{time_max}_{lon_min}_{lon_max}_{lat_min}_{lat_max}.nc'\n",
    "\n",
    "# Spectral parameter\n",
    "# C2 parameter\n",
    "delta_t = 0.9434  # s\n",
    "velocity = 6.77   # km/s\n",
    "delta_x = velocity * delta_t\n",
    "lenght_scale = 1000 # km\n",
    "output_filename_spectrum = f'{output_directory}/psd_OSE_4DVARNET_v2022_{time_min}_{time_max}_{lon_min}_{lon_max}_{lat_min}_{lat_max}.nc'"
   ]
  },
  {
   "cell_type": "markdown",
   "metadata": {},
   "source": [
    "### Open your AVISO+ session: fill the ```<AVISO_LOGIN>``` and ```<AVISO_PWD>``` items below"
   ]
  },
  {
   "cell_type": "code",
   "execution_count": null,
   "metadata": {},
   "outputs": [],
   "source": [
    "my_aviso_session = rq.Session()\n",
    "my_aviso_session.auth = (\"<AVISO_LOGIN>\", \"<AVISO_PWD>\")\n",
    "url_alongtrack = 'https://tds.aviso.altimetry.fr/thredds/dodsC/2021a-SSH-mapping-OSE-along-track-data'\n",
    "url_map = 'https://tds.aviso.altimetry.fr/thredds/dodsC/2021a-SSH-mapping-OSE-grid-data'"
   ]
  },
  {
   "cell_type": "markdown",
   "metadata": {},
   "source": [
    "### Read L3 datasets"
   ]
  },
  {
   "cell_type": "code",
   "execution_count": null,
   "metadata": {},
   "outputs": [],
   "source": [
    "# independent along-track\n",
    "alontrack_independent_dataset = f'{url_alongtrack}/dt_gulfstream_c2_phy_l3_20161201-20180131_285-315_23-53.nc'\n",
    "# Read along-track\n",
    "ds_alongtrack = read_l3_dataset_from_aviso(alontrack_independent_dataset, \n",
    "                                           my_aviso_session,\n",
    "                                           lon_min=lon_min, \n",
    "                                           lon_max=lon_max, \n",
    "                                           lat_min=lat_min, \n",
    "                                           lat_max=lat_max, \n",
    "                                           time_min=time_min, \n",
    "                                           time_max=time_max)\n",
    "ds_alongtrack"
   ]
  },
  {
   "cell_type": "markdown",
   "metadata": {},
   "source": [
    "### Read L4 dataset and interpolate onto along-track positions"
   ]
  },
  {
   "cell_type": "code",
   "execution_count": null,
   "metadata": {},
   "outputs": [],
   "source": [
    "# series of maps to evaluate\n",
    "gridded_dataset = [f'{url_map}/OSE_ssh_mapping_4dvarNet_2022.nc', my_aviso_session]    \n",
    "# Interpolate maps onto alongtrack dataset\n",
    "time_alongtrack, lat_alongtrack, lon_alongtrack, ssh_alongtrack, ssh_map_interp = interp_on_alongtrack(gridded_dataset, \n",
    "                                                                                                       ds_alongtrack,\n",
    "                                                                                                       lon_min=lon_min, \n",
    "                                                                                                       lon_max=lon_max, \n",
    "                                                                                                       lat_min=lat_min, \n",
    "                                                                                                       lat_max=lat_max, \n",
    "                                                                                                       time_min=time_min, \n",
    "                                                                                                       time_max=time_max,\n",
    "                                                                                                  is_circle=is_circle)"
   ]
  },
  {
   "cell_type": "markdown",
   "metadata": {},
   "source": [
    "### Compute statistical score"
   ]
  },
  {
   "cell_type": "code",
   "execution_count": null,
   "metadata": {},
   "outputs": [],
   "source": [
    "leaderboard_nrmse, leaderboard_nrmse_std = compute_stats(time_alongtrack, \n",
    "                                                         lat_alongtrack, \n",
    "                                                         lon_alongtrack, \n",
    "                                                         ssh_alongtrack, \n",
    "                                                         ssh_map_interp, \n",
    "                                                         bin_lon_step,\n",
    "                                                         bin_lat_step, \n",
    "                                                         bin_time_step,\n",
    "                                                         output_filename,\n",
    "                                                         output_filename_timeseries)"
   ]
  },
  {
   "cell_type": "code",
   "execution_count": null,
   "metadata": {},
   "outputs": [],
   "source": [
    "plot_spatial_statistics(output_filename)"
   ]
  },
  {
   "cell_type": "code",
   "execution_count": null,
   "metadata": {},
   "outputs": [],
   "source": [
    "plot_temporal_statistics(output_filename_timeseries)"
   ]
  },
  {
   "cell_type": "markdown",
   "metadata": {},
   "source": [
    "### Compute spectral scores"
   ]
  },
  {
   "cell_type": "code",
   "execution_count": null,
   "metadata": {},
   "outputs": [],
   "source": [
    "compute_spectral_scores(time_alongtrack, \n",
    "                        lat_alongtrack, \n",
    "                        lon_alongtrack, \n",
    "                        ssh_alongtrack, \n",
    "                        ssh_map_interp, \n",
    "                        lenght_scale,\n",
    "                        delta_x,\n",
    "                        delta_t,\n",
    "                        output_filename_spectrum)"
   ]
  },
  {
   "cell_type": "code",
   "execution_count": null,
   "metadata": {},
   "outputs": [],
   "source": [
    "leaderboard_psds_score = plot_psd_score(output_filename_spectrum)"
   ]
  },
  {
   "cell_type": "code",
   "execution_count": null,
   "metadata": {},
   "outputs": [],
   "source": [
    "# Print leaderboard\n",
    "data = [['4DVarNet', \n",
    "         leaderboard_nrmse, \n",
    "         leaderboard_nrmse_std, \n",
    "         int(leaderboard_psds_score),\n",
    "        '4DVarNet mapping',\n",
    "        'example_eval_4DVarnet.ipynb']]\n",
    "Leaderboard = pd.DataFrame(data, \n",
    "                           columns=['Method', \n",
    "                                    \"µ(RMSE) \", \n",
    "                                    \"σ(RMSE)\", \n",
    "                                    'λx (km)',  \n",
    "                                    'Notes',\n",
    "                                    'Reference'])\n",
    "print(\"Summary of the leaderboard metrics:\")\n",
    "Leaderboard\n",
    "print(Leaderboard.to_markdown())"
   ]
  },
  {
   "cell_type": "code",
   "execution_count": null,
   "metadata": {},
   "outputs": [],
   "source": []
  },
  {
   "cell_type": "code",
   "execution_count": null,
   "metadata": {},
   "outputs": [],
   "source": []
  }
 ],
 "metadata": {
  "kernelspec": {
   "display_name": "conda_env",
   "language": "python",
   "name": "conda_env"
  },
  "language_info": {
   "codemirror_mode": {
    "name": "ipython",
    "version": 3
   },
   "file_extension": ".py",
   "mimetype": "text/x-python",
   "name": "python",
   "nbconvert_exporter": "python",
   "pygments_lexer": "ipython3",
   "version": "3.9.12"
  }
 },
 "nbformat": 4,
 "nbformat_minor": 4
}
