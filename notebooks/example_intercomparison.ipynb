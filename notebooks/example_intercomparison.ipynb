{
 "cells": [
  {
   "cell_type": "markdown",
   "metadata": {},
   "source": [
    "# Intercomparison of various altimetry-based SSH reconstruction\n",
    "This notebook aims at visualizing simustaneously the key spactral and statistical metrics computed for various SSH mapping reconstructions"
   ]
  },
  {
   "cell_type": "code",
   "execution_count": null,
   "metadata": {},
   "outputs": [],
   "source": [
    "import sys\n",
    "sys.path.append('..')\n",
    "import hvplot.xarray"
   ]
  },
  {
   "cell_type": "code",
   "execution_count": null,
   "metadata": {},
   "outputs": [],
   "source": [
    "from src.mod_plot import *"
   ]
  },
  {
   "cell_type": "markdown",
   "metadata": {},
   "source": [
    "### Power spectral densities & Power Spectral Density Score"
   ]
  },
  {
   "cell_type": "code",
   "execution_count": null,
   "metadata": {},
   "outputs": [],
   "source": [
    "list_of_filename = ['../results/psd_OSE_BASELINE_2017-01-01_2017-12-31_295.0_305.0_33.0_43.0.nc',\n",
    "                    '../results/psd_OSE_BFN_2017-01-01_2017-12-31_295.0_305.0_33.0_43.0.nc',\n",
    "                    '../results/psd_OSE_DUACS_2017-01-01_2017-12-31_295.0_305.0_33.0_43.0.nc',\n",
    "                    '../results/psd_OSE_DYMOST_2017-01-01_2017-12-31_295.0_305.0_33.0_43.0.nc',\n",
    "                    '../results/psd_OSE_MIOST_2017-01-01_2017-12-31_295.0_305.0_33.0_43.0.nc',\n",
    "                    '../results/psd_OSE_4DVARNET_2017-01-01_2017-12-31_295.0_305.0_33.0_43.0.nc',\n",
    "                    '../results/psd_OSE_4DVARNET_v2022_2017-01-01_2017-12-31_295.0_305.0_33.0_43.0.nc'\n",
    "                   ]\n",
    "list_of_label = ['BASELINE', \n",
    "                 'BFN',\n",
    "                 'DUACS',\n",
    "                 'DYMOST',\n",
    "                 'MIOST',\n",
    "                 '4DVARNET (v2021)',\n",
    "                 '4DVARNET (v2022)'\n",
    "                ]"
   ]
  },
  {
   "cell_type": "code",
   "execution_count": null,
   "metadata": {},
   "outputs": [],
   "source": [
    "spectral_score_intercomparison(list_of_filename, list_of_label)"
   ]
  },
  {
   "cell_type": "markdown",
   "metadata": {},
   "source": [
    "### Timeseries of daily averaged RMSE score\n",
    "This figure show the temporal statibility of the SSH reconstructions"
   ]
  },
  {
   "cell_type": "code",
   "execution_count": null,
   "metadata": {},
   "outputs": [],
   "source": [
    "list_of_filename = ['../results/stat_timeseries_OSE_BASELINE_2017-01-01_2017-12-31_295.0_305.0_33.0_43.0.nc',\n",
    "                    '../results/stat_timeseries_OSE_BFN_2017-01-01_2017-12-31_295.0_305.0_33.0_43.0.nc',\n",
    "                    '../results/stat_timeseries_OSE_DUACS_2017-01-01_2017-12-31_295.0_305.0_33.0_43.0.nc',\n",
    "                    '../results/stat_timeseries_OSE_DYMOST_2017-01-01_2017-12-31_295.0_305.0_33.0_43.0.nc',\n",
    "                    '../results/stat_timeseries_OSE_MIOST_2017-01-01_2017-12-31_295.0_305.0_33.0_43.0.nc',\n",
    "                    '../results/stat_timeseries_OSE_4DVARNET_2017-01-01_2017-12-31_295.0_305.0_33.0_43.0.nc',\n",
    "                    '../results/stat_timeseries_OSE_4DVARNET_v2022_2017-01-01_2017-12-31_295.0_305.0_33.0_43.0.nc'\n",
    "                   ]"
   ]
  },
  {
   "cell_type": "code",
   "execution_count": null,
   "metadata": {},
   "outputs": [],
   "source": [
    "intercomparison_temporal_statistics(list_of_filename, list_of_label)"
   ]
  },
  {
   "cell_type": "markdown",
   "metadata": {},
   "source": [
    "### Gain / loss of RMSE (expressed in %) relativelive to the baseline OI experiment\n",
    "In the figure below, blue means a reduction of the RMSE in the experiments relatively to the BASELINE OI method"
   ]
  },
  {
   "cell_type": "code",
   "execution_count": null,
   "metadata": {},
   "outputs": [],
   "source": [
    "list_of_filename = ['../results/stat_OSE_BASELINE_2017-01-01_2017-12-31_295.0_305.0_33.0_43.0.nc',\n",
    "                    '../results/stat_OSE_BFN_2017-01-01_2017-12-31_295.0_305.0_33.0_43.0.nc',\n",
    "                    '../results/stat_OSE_DUACS_2017-01-01_2017-12-31_295.0_305.0_33.0_43.0.nc',\n",
    "                    '../results/stat_OSE_DYMOST_2017-01-01_2017-12-31_295.0_305.0_33.0_43.0.nc',\n",
    "                    '../results/stat_OSE_MIOST_2017-01-01_2017-12-31_295.0_305.0_33.0_43.0.nc',\n",
    "                    '../results/stat_OSE_4DVARNET_2017-01-01_2017-12-31_295.0_305.0_33.0_43.0.nc',\n",
    "                    '../results/stat_OSE_4DVARNET_v2022_2017-01-01_2017-12-31_295.0_305.0_33.0_43.0.nc'\n",
    "                   ]\n",
    "list_of_label = ['BASELINE', \n",
    "                 'BFN',\n",
    "                 'DUACS',\n",
    "                 'DYMOST',\n",
    "                 'MIOST',\n",
    "                 '4DVARNET (v2021)',\n",
    "                 '4DVARNET (v2022)'\n",
    "                ]"
   ]
  },
  {
   "cell_type": "code",
   "execution_count": null,
   "metadata": {},
   "outputs": [],
   "source": [
    "intercomparison_spatial_statistics(list_of_filename[0], list_of_filename[1:], list_of_label[1:])"
   ]
  },
  {
   "cell_type": "code",
   "execution_count": null,
   "metadata": {},
   "outputs": [],
   "source": []
  },
  {
   "cell_type": "code",
   "execution_count": null,
   "metadata": {},
   "outputs": [],
   "source": []
  },
  {
   "cell_type": "code",
   "execution_count": null,
   "metadata": {},
   "outputs": [],
   "source": []
  },
  {
   "cell_type": "code",
   "execution_count": null,
   "metadata": {},
   "outputs": [],
   "source": []
  }
 ],
 "metadata": {
  "kernelspec": {
   "display_name": "cmems_env",
   "language": "python",
   "name": "cmems_env"
  },
  "language_info": {
   "codemirror_mode": {
    "name": "ipython",
    "version": 3
   },
   "file_extension": ".py",
   "mimetype": "text/x-python",
   "name": "python",
   "nbconvert_exporter": "python",
   "pygments_lexer": "ipython3",
   "version": "3.8.12"
  }
 },
 "nbformat": 4,
 "nbformat_minor": 4
}
